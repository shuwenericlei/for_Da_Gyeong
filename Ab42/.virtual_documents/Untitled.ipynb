import pymol2

# List of monomer structures
monomer_list = [
    "Monomer_10", "Monomer_11", "Monomer_12", "Monomer_13", "Monomer_14", 
    "Monomer_15", "Monomer_16", "Monomer_17", "Monomer_18", "Monomer_19", 
    "Monomer_2", "Monomer_20", "Monomer_21", "Monomer_22", "Monomer_23", 
    "Monomer_24", "Monomer_25", "Monomer_26", "Monomer_27", "Monomer_28", 
    "Monomer_3", "Monomer_4", "Monomer_5", "Monomer_6", "Monomer_7", 
    "Monomer_8", "Monomer_9"
]

# Reference structure
ref_structure = "Monomer_1"

# Start a PyMOL session
with pymol2.PyMOL() as pymol:
    pymol.cmd.reinitialize()

    # Load all structures (assuming they are in the same directory)
    pymol.cmd.load("Monomer_1.pdb", ref_structure)
    for monomer in monomer_list:
        pymol.cmd.load(f"{monomer}.pdb", monomer)

    # Compute RMSD for each monomer
    rmsd_results = {}
    for monomer in monomer_list:
        rmsd = pymol.cmd.align(monomer, ref_structure)[0]  # Get RMSD value
        rmsd_results[monomer] = rmsd
        print(f"RMSD of {monomer} with respect to {ref_structure}: {rmsd:.3f} Å")

# Display RMSD values in a sorted order
sorted_rmsd = sorted(rmsd_results.items(), key=lambda x: x[1])
sorted_rmsd




